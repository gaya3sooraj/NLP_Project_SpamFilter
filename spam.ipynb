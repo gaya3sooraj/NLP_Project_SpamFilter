{
 "cells": [
  {
   "cell_type": "markdown",
   "id": "f4a7ae10-ae49-40ba-bd44-58157a8dcda6",
   "metadata": {},
   "source": [
    "# Spam Filter"
   ]
  },
  {
   "cell_type": "markdown",
   "id": "908d3088-d3f4-459e-930e-b5982dc48184",
   "metadata": {},
   "source": [
    "## 1. Import libraries "
   ]
  },
  {
   "cell_type": "code",
   "execution_count": 61,
   "id": "68a3342e-ec84-470f-8480-42dea74ac6d8",
   "metadata": {},
   "outputs": [],
   "source": [
    "import numpy as np\n",
    "import pandas as pd\n",
    "import matplotlib.pyplot as plt\n",
    "\n",
    "from sklearn.model_selection import train_test_split\n",
    "from sklearn.feature_extraction.text import TfidfVectorizer\n",
    "\n",
    "from sklearn.ensemble import RandomForestClassifier\n",
    "from sklearn.svm import SVC\n",
    "\n",
    "from sklearn.pipeline import Pipeline\n",
    "from sklearn.metrics import classification_report, accuracy_score, confusion_matrix"
   ]
  },
  {
   "cell_type": "markdown",
   "id": "8210151c-c3c8-42ee-8dc6-ac76fb068207",
   "metadata": {},
   "source": [
    "## 2. Exploratory data analysis and data preprocessing"
   ]
  },
  {
   "cell_type": "code",
   "execution_count": 9,
   "id": "2567c3b2-1f9d-4c25-aa9d-82bd850c9dcb",
   "metadata": {},
   "outputs": [],
   "source": [
    "#Load data\n",
    "data = pd.read_csv(\"spam.tsv\", sep = \"\\t\")"
   ]
  },
  {
   "cell_type": "code",
   "execution_count": 10,
   "id": "92db6576-add9-4cbc-bd54-6dcc19e139a8",
   "metadata": {},
   "outputs": [
    {
     "data": {
      "text/html": [
       "<div>\n",
       "<style scoped>\n",
       "    .dataframe tbody tr th:only-of-type {\n",
       "        vertical-align: middle;\n",
       "    }\n",
       "\n",
       "    .dataframe tbody tr th {\n",
       "        vertical-align: top;\n",
       "    }\n",
       "\n",
       "    .dataframe thead th {\n",
       "        text-align: right;\n",
       "    }\n",
       "</style>\n",
       "<table border=\"1\" class=\"dataframe\">\n",
       "  <thead>\n",
       "    <tr style=\"text-align: right;\">\n",
       "      <th></th>\n",
       "      <th>label</th>\n",
       "      <th>message</th>\n",
       "      <th>length</th>\n",
       "      <th>punct</th>\n",
       "    </tr>\n",
       "  </thead>\n",
       "  <tbody>\n",
       "    <tr>\n",
       "      <th>0</th>\n",
       "      <td>ham</td>\n",
       "      <td>Go until jurong point, crazy.. Available only ...</td>\n",
       "      <td>111</td>\n",
       "      <td>9</td>\n",
       "    </tr>\n",
       "    <tr>\n",
       "      <th>1</th>\n",
       "      <td>ham</td>\n",
       "      <td>Ok lar... Joking wif u oni...</td>\n",
       "      <td>29</td>\n",
       "      <td>6</td>\n",
       "    </tr>\n",
       "    <tr>\n",
       "      <th>2</th>\n",
       "      <td>spam</td>\n",
       "      <td>Free entry in 2 a wkly comp to win FA Cup fina...</td>\n",
       "      <td>155</td>\n",
       "      <td>6</td>\n",
       "    </tr>\n",
       "    <tr>\n",
       "      <th>3</th>\n",
       "      <td>ham</td>\n",
       "      <td>U dun say so early hor... U c already then say...</td>\n",
       "      <td>49</td>\n",
       "      <td>6</td>\n",
       "    </tr>\n",
       "    <tr>\n",
       "      <th>4</th>\n",
       "      <td>ham</td>\n",
       "      <td>Nah I don't think he goes to usf, he lives aro...</td>\n",
       "      <td>61</td>\n",
       "      <td>2</td>\n",
       "    </tr>\n",
       "  </tbody>\n",
       "</table>\n",
       "</div>"
      ],
      "text/plain": [
       "  label                                            message  length  punct\n",
       "0   ham  Go until jurong point, crazy.. Available only ...     111      9\n",
       "1   ham                      Ok lar... Joking wif u oni...      29      6\n",
       "2  spam  Free entry in 2 a wkly comp to win FA Cup fina...     155      6\n",
       "3   ham  U dun say so early hor... U c already then say...      49      6\n",
       "4   ham  Nah I don't think he goes to usf, he lives aro...      61      2"
      ]
     },
     "execution_count": 10,
     "metadata": {},
     "output_type": "execute_result"
    }
   ],
   "source": [
    "#Display first 5 rows\n",
    "data.head()"
   ]
  },
  {
   "cell_type": "code",
   "execution_count": 12,
   "id": "1c0d18f2-9b74-4ac8-a4d7-20ab98f2cc92",
   "metadata": {},
   "outputs": [
    {
     "name": "stdout",
     "output_type": "stream",
     "text": [
      "<class 'pandas.core.frame.DataFrame'>\n",
      "RangeIndex: 5572 entries, 0 to 5571\n",
      "Data columns (total 4 columns):\n",
      " #   Column   Non-Null Count  Dtype \n",
      "---  ------   --------------  ----- \n",
      " 0   label    5572 non-null   object\n",
      " 1   message  5572 non-null   object\n",
      " 2   length   5572 non-null   int64 \n",
      " 3   punct    5572 non-null   int64 \n",
      "dtypes: int64(2), object(2)\n",
      "memory usage: 174.2+ KB\n"
     ]
    }
   ],
   "source": [
    "#Check for missing values\n",
    "data.info()"
   ]
  },
  {
   "cell_type": "markdown",
   "id": "f60719c2-c5b9-4a3d-869b-653661501685",
   "metadata": {},
   "source": [
    "Observation: There are zero Nan values"
   ]
  },
  {
   "cell_type": "code",
   "execution_count": 6,
   "id": "961a5f18-a188-40d3-9dfb-c18fc900c58e",
   "metadata": {},
   "outputs": [
    {
     "data": {
      "text/html": [
       "<div>\n",
       "<style scoped>\n",
       "    .dataframe tbody tr th:only-of-type {\n",
       "        vertical-align: middle;\n",
       "    }\n",
       "\n",
       "    .dataframe tbody tr th {\n",
       "        vertical-align: top;\n",
       "    }\n",
       "\n",
       "    .dataframe thead th {\n",
       "        text-align: right;\n",
       "    }\n",
       "</style>\n",
       "<table border=\"1\" class=\"dataframe\">\n",
       "  <thead>\n",
       "    <tr style=\"text-align: right;\">\n",
       "      <th></th>\n",
       "      <th>length</th>\n",
       "      <th>punct</th>\n",
       "    </tr>\n",
       "  </thead>\n",
       "  <tbody>\n",
       "    <tr>\n",
       "      <th>count</th>\n",
       "      <td>5572.000000</td>\n",
       "      <td>5572.000000</td>\n",
       "    </tr>\n",
       "    <tr>\n",
       "      <th>mean</th>\n",
       "      <td>80.489950</td>\n",
       "      <td>4.177495</td>\n",
       "    </tr>\n",
       "    <tr>\n",
       "      <th>std</th>\n",
       "      <td>59.942907</td>\n",
       "      <td>4.623919</td>\n",
       "    </tr>\n",
       "    <tr>\n",
       "      <th>min</th>\n",
       "      <td>2.000000</td>\n",
       "      <td>0.000000</td>\n",
       "    </tr>\n",
       "    <tr>\n",
       "      <th>25%</th>\n",
       "      <td>36.000000</td>\n",
       "      <td>2.000000</td>\n",
       "    </tr>\n",
       "    <tr>\n",
       "      <th>50%</th>\n",
       "      <td>62.000000</td>\n",
       "      <td>3.000000</td>\n",
       "    </tr>\n",
       "    <tr>\n",
       "      <th>75%</th>\n",
       "      <td>122.000000</td>\n",
       "      <td>6.000000</td>\n",
       "    </tr>\n",
       "    <tr>\n",
       "      <th>max</th>\n",
       "      <td>910.000000</td>\n",
       "      <td>133.000000</td>\n",
       "    </tr>\n",
       "  </tbody>\n",
       "</table>\n",
       "</div>"
      ],
      "text/plain": [
       "            length        punct\n",
       "count  5572.000000  5572.000000\n",
       "mean     80.489950     4.177495\n",
       "std      59.942907     4.623919\n",
       "min       2.000000     0.000000\n",
       "25%      36.000000     2.000000\n",
       "50%      62.000000     3.000000\n",
       "75%     122.000000     6.000000\n",
       "max     910.000000   133.000000"
      ]
     },
     "execution_count": 6,
     "metadata": {},
     "output_type": "execute_result"
    }
   ],
   "source": [
    "data.describe()"
   ]
  },
  {
   "cell_type": "code",
   "execution_count": 14,
   "id": "4bf52c80-d06a-42ad-a6db-bb1c98c061d1",
   "metadata": {},
   "outputs": [
    {
     "data": {
      "text/plain": [
       "label\n",
       "ham     86.593683\n",
       "spam    13.406317\n",
       "Name: count, dtype: float64"
      ]
     },
     "execution_count": 14,
     "metadata": {},
     "output_type": "execute_result"
    }
   ],
   "source": [
    "#Find spam-ham ratio\n",
    "data[\"label\"].value_counts()*100/len(data)"
   ]
  },
  {
   "cell_type": "markdown",
   "id": "c62e45f3-4f2f-445f-84bf-da16f05f0a89",
   "metadata": {},
   "source": [
    "Observation: 87% is ham and 13% is spam"
   ]
  },
  {
   "cell_type": "code",
   "execution_count": 16,
   "id": "9f54f355-58f8-4d6e-a0f3-5d914b425739",
   "metadata": {},
   "outputs": [],
   "source": [
    "ham = data[data[\"label\"] == 'ham']\n",
    "spam = data[data[\"label\"] == 'spam']"
   ]
  },
  {
   "cell_type": "code",
   "execution_count": 19,
   "id": "c5987623-9caf-4bf6-ac4f-3ea698eb9eca",
   "metadata": {},
   "outputs": [
    {
     "name": "stdout",
     "output_type": "stream",
     "text": [
      "label\n",
      "ham     4825\n",
      "spam     747\n",
      "Name: count, dtype: int64\n"
     ]
    },
    {
     "data": {
      "text/plain": [
       "((4825, 4), (747, 4))"
      ]
     },
     "execution_count": 19,
     "metadata": {},
     "output_type": "execute_result"
    }
   ],
   "source": [
    "print(data[\"label\"].value_counts())\n",
    "ham.shape, spam.shape"
   ]
  },
  {
   "cell_type": "code",
   "execution_count": 20,
   "id": "595483b7-e439-423a-aa24-e28e5b8e693c",
   "metadata": {},
   "outputs": [],
   "source": [
    "#Balancing spam-ham ratio\n",
    "ham = ham.sample(spam.shape[0])"
   ]
  },
  {
   "cell_type": "code",
   "execution_count": 22,
   "id": "30c510cb-d915-4c30-b535-d6dc21bdc87a",
   "metadata": {},
   "outputs": [
    {
     "data": {
      "text/plain": [
       "((747, 4), (747, 4))"
      ]
     },
     "execution_count": 22,
     "metadata": {},
     "output_type": "execute_result"
    }
   ],
   "source": [
    "ham.shape, spam.shape"
   ]
  },
  {
   "cell_type": "code",
   "execution_count": 25,
   "id": "00ce8bed-157a-4815-9c20-ce8e48b387f7",
   "metadata": {},
   "outputs": [],
   "source": [
    "#Combine spam and ham datasets\n",
    "df = pd.concat([ham,spam], ignore_index=True)"
   ]
  },
  {
   "cell_type": "code",
   "execution_count": 27,
   "id": "3d96ecfb-9193-48d1-90ae-4764b27fef2f",
   "metadata": {},
   "outputs": [
    {
     "data": {
      "text/plain": [
       "(1494, 4)"
      ]
     },
     "execution_count": 27,
     "metadata": {},
     "output_type": "execute_result"
    }
   ],
   "source": [
    "df.shape"
   ]
  },
  {
   "cell_type": "code",
   "execution_count": 50,
   "id": "edabfdc3-d4e3-48f4-acd4-398755766a67",
   "metadata": {},
   "outputs": [
    {
     "data": {
      "text/html": [
       "<div>\n",
       "<style scoped>\n",
       "    .dataframe tbody tr th:only-of-type {\n",
       "        vertical-align: middle;\n",
       "    }\n",
       "\n",
       "    .dataframe tbody tr th {\n",
       "        vertical-align: top;\n",
       "    }\n",
       "\n",
       "    .dataframe thead th {\n",
       "        text-align: right;\n",
       "    }\n",
       "</style>\n",
       "<table border=\"1\" class=\"dataframe\">\n",
       "  <thead>\n",
       "    <tr style=\"text-align: right;\">\n",
       "      <th></th>\n",
       "      <th>label</th>\n",
       "      <th>message</th>\n",
       "      <th>length</th>\n",
       "      <th>punct</th>\n",
       "    </tr>\n",
       "  </thead>\n",
       "  <tbody>\n",
       "    <tr>\n",
       "      <th>0</th>\n",
       "      <td>ham</td>\n",
       "      <td>K da:)how many page you want?</td>\n",
       "      <td>29</td>\n",
       "      <td>3</td>\n",
       "    </tr>\n",
       "    <tr>\n",
       "      <th>1</th>\n",
       "      <td>ham</td>\n",
       "      <td>She said,'' do u mind if I go into the bedroom...</td>\n",
       "      <td>145</td>\n",
       "      <td>16</td>\n",
       "    </tr>\n",
       "    <tr>\n",
       "      <th>2</th>\n",
       "      <td>ham</td>\n",
       "      <td>Aight, I'm chillin in a friend's room so text ...</td>\n",
       "      <td>71</td>\n",
       "      <td>4</td>\n",
       "    </tr>\n",
       "    <tr>\n",
       "      <th>3</th>\n",
       "      <td>ham</td>\n",
       "      <td>Ok...</td>\n",
       "      <td>5</td>\n",
       "      <td>3</td>\n",
       "    </tr>\n",
       "    <tr>\n",
       "      <th>4</th>\n",
       "      <td>ham</td>\n",
       "      <td>You know my old Dom I told you about yesterday...</td>\n",
       "      <td>141</td>\n",
       "      <td>2</td>\n",
       "    </tr>\n",
       "  </tbody>\n",
       "</table>\n",
       "</div>"
      ],
      "text/plain": [
       "  label                                            message  length  punct\n",
       "0   ham                      K da:)how many page you want?      29      3\n",
       "1   ham  She said,'' do u mind if I go into the bedroom...     145     16\n",
       "2   ham  Aight, I'm chillin in a friend's room so text ...      71      4\n",
       "3   ham                                              Ok...       5      3\n",
       "4   ham  You know my old Dom I told you about yesterday...     141      2"
      ]
     },
     "execution_count": 50,
     "metadata": {},
     "output_type": "execute_result"
    }
   ],
   "source": [
    "df.head()"
   ]
  },
  {
   "cell_type": "code",
   "execution_count": 37,
   "id": "60ab7496-9dbf-4164-a982-78d40691d43a",
   "metadata": {},
   "outputs": [
    {
     "data": {
      "image/png": "[encoded data removed]",
      "text/plain": [
       "<Figure size 640x480 with 1 Axes>"
      ]
     },
     "metadata": {},
     "output_type": "display_data"
    }
   ],
   "source": [
    "#Visualise message length\n",
    "bins = np.linspace(min(ham[\"length\"].min(), spam[\"length\"].min()), max(ham[\"length\"].max(), spam[\"length\"].max()), 50)\n",
    "counts1, _, _ = plt.hist(ham[\"length\"], bins=bins, label=\"ham\", alpha =0.7)\n",
    "plt.hist(spam[\"length\"], bins=bins, label=\"spam\", alpha =0.7)\n",
    "plt.legend()\n",
    "plt.ylabel(\"Counts\")\n",
    "plt.xlabel(\"Length\");"
   ]
  },
  {
   "cell_type": "markdown",
   "id": "6da32392-929a-4f9d-a54c-c87a9ce4f4cb",
   "metadata": {},
   "source": [
    "Observation: There is a higher chance that the spam messages have lengthy messages based on the dataset."
   ]
  },
  {
   "cell_type": "code",
   "execution_count": 38,
   "id": "9ea2c8f5-5ffc-4f46-afd2-9d4692affcf9",
   "metadata": {},
   "outputs": [
    {
     "data": {
      "image/png": "[encoded data removed]",
      "text/plain": [
       "<Figure size 640x480 with 1 Axes>"
      ]
     },
     "metadata": {},
     "output_type": "display_data"
    }
   ],
   "source": [
    "#Visualise punctuation\n",
    "bins = np.linspace(min(ham[\"punct\"].min(), spam[\"punct\"].min()), max(ham[\"punct\"].max(), spam[\"punct\"].max()), 50)\n",
    "counts1, _, _ = plt.hist(ham[\"punct\"], bins=bins, label=\"ham\", alpha =0.7)\n",
    "plt.hist(spam[\"punct\"], bins=bins, label=\"spam\", alpha =0.7)\n",
    "plt.legend()\n",
    "plt.ylabel(\"Counts\")\n",
    "plt.xlabel(\"punctuations\");"
   ]
  },
  {
   "cell_type": "markdown",
   "id": "c754f39e-3876-419b-9834-4b81c8352d63",
   "metadata": {},
   "source": [
    "## 3. Building the model using Random Forest Classifier"
   ]
  },
  {
   "cell_type": "code",
   "execution_count": 53,
   "id": "ca838909-bc3a-4197-920e-1d5ea8a0786a",
   "metadata": {},
   "outputs": [
    {
     "data": {
      "text/plain": [
       "((1045,), (449,), (1045,), (449,))"
      ]
     },
     "execution_count": 53,
     "metadata": {},
     "output_type": "execute_result"
    }
   ],
   "source": [
    "#split data into and training and testing datasets\n",
    "X_train, X_test, y_train, y_test =  train_test_split(df[\"message\"], df[\"label\"], test_size = 0.3, random_state =0, shuffle = True)\n",
    "X_train.shape, X_test.shape, y_train.shape, y_test.shape"
   ]
  },
  {
   "cell_type": "code",
   "execution_count": 54,
   "id": "0b2b5a7a-a72f-48b3-b136-3e4d2da4e6fb",
   "metadata": {},
   "outputs": [],
   "source": [
    "#convert textual data to numerical\n",
    "classifier = Pipeline([(\"tfid\", TfidfVectorizer()), (\"rfc\", RandomForestClassifier(n_estimators=100))])"
   ]
  },
  {
   "cell_type": "code",
   "execution_count": 55,
   "id": "d13d66ac-0ed9-4c90-a7f6-3b7605057cd8",
   "metadata": {},
   "outputs": [
    {
     "data": {
      "text/html": [
       "<style>#sk-container-id-1 {color: black;}#sk-container-id-1 pre{padding: 0;}#sk-container-id-1 div.sk-toggleable {background-color: white;}#sk-container-id-1 label.sk-toggleable__label {cursor: pointer;display: block;width: 100%;margin-bottom: 0;padding: 0.3em;box-sizing: border-box;text-align: center;}#sk-container-id-1 label.sk-toggleable__label-arrow:before {content: \"▸\";float: left;margin-right: 0.25em;color: #696969;}#sk-container-id-1 label.sk-toggleable__label-arrow:hover:before {color: black;}#sk-container-id-1 div.sk-estimator:hover label.sk-toggleable__label-arrow:before {color: black;}#sk-container-id-1 div.sk-toggleable__content {max-height: 0;max-width: 0;overflow: hidden;text-align: left;background-color: #f0f8ff;}#sk-container-id-1 div.sk-toggleable__content pre {margin: 0.2em;color: black;border-radius: 0.25em;background-color: #f0f8ff;}#sk-container-id-1 input.sk-toggleable__control:checked~div.sk-toggleable__content {max-height: 200px;max-width: 100%;overflow: auto;}#sk-container-id-1 input.sk-toggleable__control:checked~label.sk-toggleable__label-arrow:before {content: \"▾\";}#sk-container-id-1 div.sk-estimator input.sk-toggleable__control:checked~label.sk-toggleable__label {background-color: #d4ebff;}#sk-container-id-1 div.sk-label input.sk-toggleable__control:checked~label.sk-toggleable__label {background-color: #d4ebff;}#sk-container-id-1 input.sk-hidden--visually {border: 0;clip: rect(1px 1px 1px 1px);clip: rect(1px, 1px, 1px, 1px);height: 1px;margin: -1px;overflow: hidden;padding: 0;position: absolute;width: 1px;}#sk-container-id-1 div.sk-estimator {font-family: monospace;background-color: #f0f8ff;border: 1px dotted black;border-radius: 0.25em;box-sizing: border-box;margin-bottom: 0.5em;}#sk-container-id-1 div.sk-estimator:hover {background-color: #d4ebff;}#sk-container-id-1 div.sk-parallel-item::after {content: \"\";width: 100%;border-bottom: 1px solid gray;flex-grow: 1;}#sk-container-id-1 div.sk-label:hover label.sk-toggleable__label {background-color: #d4ebff;}#sk-container-id-1 div.sk-serial::before {content: \"\";position: absolute;border-left: 1px solid gray;box-sizing: border-box;top: 0;bottom: 0;left: 50%;z-index: 0;}#sk-container-id-1 div.sk-serial {display: flex;flex-direction: column;align-items: center;background-color: white;padding-right: 0.2em;padding-left: 0.2em;position: relative;}#sk-container-id-1 div.sk-item {position: relative;z-index: 1;}#sk-container-id-1 div.sk-parallel {display: flex;align-items: stretch;justify-content: center;background-color: white;position: relative;}#sk-container-id-1 div.sk-item::before, #sk-container-id-1 div.sk-parallel-item::before {content: \"\";position: absolute;border-left: 1px solid gray;box-sizing: border-box;top: 0;bottom: 0;left: 50%;z-index: -1;}#sk-container-id-1 div.sk-parallel-item {display: flex;flex-direction: column;z-index: 1;position: relative;background-color: white;}#sk-container-id-1 div.sk-parallel-item:first-child::after {align-self: flex-end;width: 50%;}#sk-container-id-1 div.sk-parallel-item:last-child::after {align-self: flex-start;width: 50%;}#sk-container-id-1 div.sk-parallel-item:only-child::after {width: 0;}#sk-container-id-1 div.sk-dashed-wrapped {border: 1px dashed gray;margin: 0 0.4em 0.5em 0.4em;box-sizing: border-box;padding-bottom: 0.4em;background-color: white;}#sk-container-id-1 div.sk-label label {font-family: monospace;font-weight: bold;display: inline-block;line-height: 1.2em;}#sk-container-id-1 div.sk-label-container {text-align: center;}#sk-container-id-1 div.sk-container {/* jupyter's `normalize.less` sets `[hidden] { display: none; }` but bootstrap.min.css set `[hidden] { display: none !important; }` so we also need the `!important` here to be able to override the default hidden behavior on the sphinx rendered scikit-learn.org. See: https://github.com/scikit-learn/scikit-learn/issues/21755 */display: inline-block !important;position: relative;}#sk-container-id-1 div.sk-text-repr-fallback {display: none;}</style><div id=\"sk-container-id-1\" class=\"sk-top-container\"><div class=\"sk-text-repr-fallback\"><pre>Pipeline(steps=[(&#x27;tfid&#x27;, TfidfVectorizer()), (&#x27;rfc&#x27;, RandomForestClassifier())])</pre><b>In a Jupyter environment, please rerun this cell to show the HTML representation or trust the notebook. <br />On GitHub, the HTML representation is unable to render, please try loading this page with nbviewer.org.</b></div><div class=\"sk-container\" hidden><div class=\"sk-item sk-dashed-wrapped\"><div class=\"sk-label-container\"><div class=\"sk-label sk-toggleable\"><input class=\"sk-toggleable__control sk-hidden--visually\" id=\"sk-estimator-id-1\" type=\"checkbox\" ><label for=\"sk-estimator-id-1\" class=\"sk-toggleable__label sk-toggleable__label-arrow\">Pipeline</label><div class=\"sk-toggleable__content\"><pre>Pipeline(steps=[(&#x27;tfid&#x27;, TfidfVectorizer()), (&#x27;rfc&#x27;, RandomForestClassifier())])</pre></div></div></div><div class=\"sk-serial\"><div class=\"sk-item\"><div class=\"sk-estimator sk-toggleable\"><input class=\"sk-toggleable__control sk-hidden--visually\" id=\"sk-estimator-id-2\" type=\"checkbox\" ><label for=\"sk-estimator-id-2\" class=\"sk-toggleable__label sk-toggleable__label-arrow\">TfidfVectorizer</label><div class=\"sk-toggleable__content\"><pre>TfidfVectorizer()</pre></div></div></div><div class=\"sk-item\"><div class=\"sk-estimator sk-toggleable\"><input class=\"sk-toggleable__control sk-hidden--visually\" id=\"sk-estimator-id-3\" type=\"checkbox\" ><label for=\"sk-estimator-id-3\" class=\"sk-toggleable__label sk-toggleable__label-arrow\">RandomForestClassifier</label><div class=\"sk-toggleable__content\"><pre>RandomForestClassifier()</pre></div></div></div></div></div></div></div>"
      ],
      "text/plain": [
       "Pipeline(steps=[('tfid', TfidfVectorizer()), ('rfc', RandomForestClassifier())])"
      ]
     },
     "execution_count": 55,
     "metadata": {},
     "output_type": "execute_result"
    }
   ],
   "source": [
    "classifier.fit(X_train, y_train)"
   ]
  },
  {
   "cell_type": "markdown",
   "id": "d8547f8c-b44a-40c2-9d4c-9fbae33ac9c6",
   "metadata": {},
   "source": [
    "## 4. Testing (RFC)"
   ]
  },
  {
   "cell_type": "code",
   "execution_count": 57,
   "id": "3f1ec77a-3430-4fc1-9bd6-ae9a99432245",
   "metadata": {},
   "outputs": [
    {
     "data": {
      "text/plain": [
       "0.9465478841870824"
      ]
     },
     "execution_count": 57,
     "metadata": {},
     "output_type": "execute_result"
    }
   ],
   "source": [
    "y_pred = classifier.predict(X_test)\n",
    "y_test, y_pred\n",
    "accuracy_score(y_test, y_pred)"
   ]
  },
  {
   "cell_type": "code",
   "execution_count": 58,
   "id": "83a51943-76f6-4e5a-bef8-bbf314b11edf",
   "metadata": {},
   "outputs": [
    {
     "data": {
      "text/plain": [
       "array([[227,   0],\n",
       "       [ 24, 198]])"
      ]
     },
     "execution_count": 58,
     "metadata": {},
     "output_type": "execute_result"
    }
   ],
   "source": [
    "confusion_matrix(y_test, y_pred)"
   ]
  },
  {
   "cell_type": "code",
   "execution_count": 60,
   "id": "943fba57-3756-4f07-bf1b-38276c488efb",
   "metadata": {},
   "outputs": [
    {
     "name": "stdout",
     "output_type": "stream",
     "text": [
      "              precision    recall  f1-score   support\n",
      "\n",
      "         ham       0.90      1.00      0.95       227\n",
      "        spam       1.00      0.89      0.94       222\n",
      "\n",
      "    accuracy                           0.95       449\n",
      "   macro avg       0.95      0.95      0.95       449\n",
      "weighted avg       0.95      0.95      0.95       449\n",
      "\n"
     ]
    }
   ],
   "source": [
    "print(classification_report(y_test, y_pred))"
   ]
  },
  {
   "cell_type": "markdown",
   "id": "caa60175-792b-4e70-9810-84259916f0d8",
   "metadata": {},
   "source": [
    "## 5. Building the model using Support Vector Classifier"
   ]
  },
  {
   "cell_type": "code",
   "execution_count": 63,
   "id": "4d0fe4ce-beda-4b78-97d0-575c1550e296",
   "metadata": {},
   "outputs": [
    {
     "data": {
      "text/html": [
       "<style>#sk-container-id-2 {color: black;}#sk-container-id-2 pre{padding: 0;}#sk-container-id-2 div.sk-toggleable {background-color: white;}#sk-container-id-2 label.sk-toggleable__label {cursor: pointer;display: block;width: 100%;margin-bottom: 0;padding: 0.3em;box-sizing: border-box;text-align: center;}#sk-container-id-2 label.sk-toggleable__label-arrow:before {content: \"▸\";float: left;margin-right: 0.25em;color: #696969;}#sk-container-id-2 label.sk-toggleable__label-arrow:hover:before {color: black;}#sk-container-id-2 div.sk-estimator:hover label.sk-toggleable__label-arrow:before {color: black;}#sk-container-id-2 div.sk-toggleable__content {max-height: 0;max-width: 0;overflow: hidden;text-align: left;background-color: #f0f8ff;}#sk-container-id-2 div.sk-toggleable__content pre {margin: 0.2em;color: black;border-radius: 0.25em;background-color: #f0f8ff;}#sk-container-id-2 input.sk-toggleable__control:checked~div.sk-toggleable__content {max-height: 200px;max-width: 100%;overflow: auto;}#sk-container-id-2 input.sk-toggleable__control:checked~label.sk-toggleable__label-arrow:before {content: \"▾\";}#sk-container-id-2 div.sk-estimator input.sk-toggleable__control:checked~label.sk-toggleable__label {background-color: #d4ebff;}#sk-container-id-2 div.sk-label input.sk-toggleable__control:checked~label.sk-toggleable__label {background-color: #d4ebff;}#sk-container-id-2 input.sk-hidden--visually {border: 0;clip: rect(1px 1px 1px 1px);clip: rect(1px, 1px, 1px, 1px);height: 1px;margin: -1px;overflow: hidden;padding: 0;position: absolute;width: 1px;}#sk-container-id-2 div.sk-estimator {font-family: monospace;background-color: #f0f8ff;border: 1px dotted black;border-radius: 0.25em;box-sizing: border-box;margin-bottom: 0.5em;}#sk-container-id-2 div.sk-estimator:hover {background-color: #d4ebff;}#sk-container-id-2 div.sk-parallel-item::after {content: \"\";width: 100%;border-bottom: 1px solid gray;flex-grow: 1;}#sk-container-id-2 div.sk-label:hover label.sk-toggleable__label {background-color: #d4ebff;}#sk-container-id-2 div.sk-serial::before {content: \"\";position: absolute;border-left: 1px solid gray;box-sizing: border-box;top: 0;bottom: 0;left: 50%;z-index: 0;}#sk-container-id-2 div.sk-serial {display: flex;flex-direction: column;align-items: center;background-color: white;padding-right: 0.2em;padding-left: 0.2em;position: relative;}#sk-container-id-2 div.sk-item {position: relative;z-index: 1;}#sk-container-id-2 div.sk-parallel {display: flex;align-items: stretch;justify-content: center;background-color: white;position: relative;}#sk-container-id-2 div.sk-item::before, #sk-container-id-2 div.sk-parallel-item::before {content: \"\";position: absolute;border-left: 1px solid gray;box-sizing: border-box;top: 0;bottom: 0;left: 50%;z-index: -1;}#sk-container-id-2 div.sk-parallel-item {display: flex;flex-direction: column;z-index: 1;position: relative;background-color: white;}#sk-container-id-2 div.sk-parallel-item:first-child::after {align-self: flex-end;width: 50%;}#sk-container-id-2 div.sk-parallel-item:last-child::after {align-self: flex-start;width: 50%;}#sk-container-id-2 div.sk-parallel-item:only-child::after {width: 0;}#sk-container-id-2 div.sk-dashed-wrapped {border: 1px dashed gray;margin: 0 0.4em 0.5em 0.4em;box-sizing: border-box;padding-bottom: 0.4em;background-color: white;}#sk-container-id-2 div.sk-label label {font-family: monospace;font-weight: bold;display: inline-block;line-height: 1.2em;}#sk-container-id-2 div.sk-label-container {text-align: center;}#sk-container-id-2 div.sk-container {/* jupyter's `normalize.less` sets `[hidden] { display: none; }` but bootstrap.min.css set `[hidden] { display: none !important; }` so we also need the `!important` here to be able to override the default hidden behavior on the sphinx rendered scikit-learn.org. See: https://github.com/scikit-learn/scikit-learn/issues/21755 */display: inline-block !important;position: relative;}#sk-container-id-2 div.sk-text-repr-fallback {display: none;}</style><div id=\"sk-container-id-2\" class=\"sk-top-container\"><div class=\"sk-text-repr-fallback\"><pre>Pipeline(steps=[(&#x27;tfid&#x27;, TfidfVectorizer()), (&#x27;svc&#x27;, SVC(C=100, gamma=&#x27;auto&#x27;))])</pre><b>In a Jupyter environment, please rerun this cell to show the HTML representation or trust the notebook. <br />On GitHub, the HTML representation is unable to render, please try loading this page with nbviewer.org.</b></div><div class=\"sk-container\" hidden><div class=\"sk-item sk-dashed-wrapped\"><div class=\"sk-label-container\"><div class=\"sk-label sk-toggleable\"><input class=\"sk-toggleable__control sk-hidden--visually\" id=\"sk-estimator-id-4\" type=\"checkbox\" ><label for=\"sk-estimator-id-4\" class=\"sk-toggleable__label sk-toggleable__label-arrow\">Pipeline</label><div class=\"sk-toggleable__content\"><pre>Pipeline(steps=[(&#x27;tfid&#x27;, TfidfVectorizer()), (&#x27;svc&#x27;, SVC(C=100, gamma=&#x27;auto&#x27;))])</pre></div></div></div><div class=\"sk-serial\"><div class=\"sk-item\"><div class=\"sk-estimator sk-toggleable\"><input class=\"sk-toggleable__control sk-hidden--visually\" id=\"sk-estimator-id-5\" type=\"checkbox\" ><label for=\"sk-estimator-id-5\" class=\"sk-toggleable__label sk-toggleable__label-arrow\">TfidfVectorizer</label><div class=\"sk-toggleable__content\"><pre>TfidfVectorizer()</pre></div></div></div><div class=\"sk-item\"><div class=\"sk-estimator sk-toggleable\"><input class=\"sk-toggleable__control sk-hidden--visually\" id=\"sk-estimator-id-6\" type=\"checkbox\" ><label for=\"sk-estimator-id-6\" class=\"sk-toggleable__label sk-toggleable__label-arrow\">SVC</label><div class=\"sk-toggleable__content\"><pre>SVC(C=100, gamma=&#x27;auto&#x27;)</pre></div></div></div></div></div></div></div>"
      ],
      "text/plain": [
       "Pipeline(steps=[('tfid', TfidfVectorizer()), ('svc', SVC(C=100, gamma='auto'))])"
      ]
     },
     "execution_count": 63,
     "metadata": {},
     "output_type": "execute_result"
    }
   ],
   "source": [
    "classifier2 = Pipeline([(\"tfid\", TfidfVectorizer()), (\"svc\", SVC(C = 100, gamma='auto'))])\n",
    "classifier2.fit(X_train, y_train)"
   ]
  },
  {
   "cell_type": "markdown",
   "id": "69e7b7cd-1a03-4180-a756-9d419ee071a8",
   "metadata": {},
   "source": [
    "## 6. Testing (SVC)"
   ]
  },
  {
   "cell_type": "code",
   "execution_count": 65,
   "id": "36e08909-901d-4f89-b906-e741b7b3d998",
   "metadata": {},
   "outputs": [
    {
     "data": {
      "text/plain": [
       "0.9398663697104677"
      ]
     },
     "execution_count": 65,
     "metadata": {},
     "output_type": "execute_result"
    }
   ],
   "source": [
    "y_pred = classifier2.predict(X_test)\n",
    "y_test, y_pred\n",
    "accuracy_score(y_test, y_pred)"
   ]
  },
  {
   "cell_type": "code",
   "execution_count": 66,
   "id": "0982a3df-85b3-45d6-8e43-464e0c08a3bc",
   "metadata": {},
   "outputs": [
    {
     "data": {
      "text/plain": [
       "array([[223,   4],\n",
       "       [ 23, 199]])"
      ]
     },
     "execution_count": 66,
     "metadata": {},
     "output_type": "execute_result"
    }
   ],
   "source": [
    "confusion_matrix(y_test, y_pred)"
   ]
  },
  {
   "cell_type": "code",
   "execution_count": 67,
   "id": "dea38c77-061f-4c29-a7ea-3001aad0023f",
   "metadata": {},
   "outputs": [
    {
     "name": "stdout",
     "output_type": "stream",
     "text": [
      "              precision    recall  f1-score   support\n",
      "\n",
      "         ham       0.91      0.98      0.94       227\n",
      "        spam       0.98      0.90      0.94       222\n",
      "\n",
      "    accuracy                           0.94       449\n",
      "   macro avg       0.94      0.94      0.94       449\n",
      "weighted avg       0.94      0.94      0.94       449\n",
      "\n"
     ]
    }
   ],
   "source": [
    "print(classification_report(y_test, y_pred))"
   ]
  },
  {
   "cell_type": "markdown",
   "id": "0f35c1e2-3b7f-4ac3-9206-6167d6d7cf1f",
   "metadata": {},
   "source": [
    "## 7. Prediction using RFC and SVC models"
   ]
  },
  {
   "cell_type": "code",
   "execution_count": 76,
   "id": "9624b8e3-40e4-4b3a-9657-08e7fa600ba5",
   "metadata": {},
   "outputs": [],
   "source": [
    "test_messages = [[\"Hey, just wanted to check in and see how you're doing.\"],\n",
    "    [\"You've won a free trip to the Bahamas! Claim your prize now.\"],\n",
    "    [\"Reminder: Our meeting is scheduled for tomorrow at 10 AM.\"],\n",
    "    [\"URGENT: Your account has been compromised. Click here to reset your password.\"],\n",
    "    [\"Don't forget to pick up groceries on your way home.\"],\n",
    "    [\"Congratulations on your recent achievement!\"],\n",
    "    [\"Limited time offer: Get 50% off on all purchases today only!\"],\n",
    "    [\"Congratulations! You've been selected for a special promotion. Click here for details.\"]]\n",
    "\n",
    "labels = [[\"ham\"], [\"spam\"], [\"ham\"], [\"spam\"], [\"ham\"], [\"ham\"], [\"spam\"], [\"spam\"]]"
   ]
  },
  {
   "cell_type": "code",
   "execution_count": 82,
   "id": "e6007336-3673-4be9-91f2-4d7d62a3379a",
   "metadata": {},
   "outputs": [
    {
     "name": "stdout",
     "output_type": "stream",
     "text": [
      "Message: [\"Hey, just wanted to check in and see how you're doing.\"]\n",
      "Predicted label: ['ham']\n",
      "Correct Prediction!!!!\n",
      "\n",
      "Message: [\"You've won a free trip to the Bahamas! Claim your prize now.\"]\n",
      "Predicted label: ['spam']\n",
      "Correct Prediction!!!!\n",
      "\n",
      "Message: ['Reminder: Our meeting is scheduled for tomorrow at 10 AM.']\n",
      "Predicted label: ['ham']\n",
      "Correct Prediction!!!!\n",
      "\n",
      "Message: ['URGENT: Your account has been compromised. Click here to reset your password.']\n",
      "Predicted label: ['ham']\n",
      "Wrong Prediction!!!!\n",
      "\n",
      "Message: [\"Don't forget to pick up groceries on your way home.\"]\n",
      "Predicted label: ['ham']\n",
      "Correct Prediction!!!!\n",
      "\n",
      "Message: ['Congratulations on your recent achievement!']\n",
      "Predicted label: ['ham']\n",
      "Correct Prediction!!!!\n",
      "\n",
      "Message: ['Limited time offer: Get 50% off on all purchases today only!']\n",
      "Predicted label: ['ham']\n",
      "Wrong Prediction!!!!\n",
      "\n",
      "Message: [\"Congratulations! You've been selected for a special promotion. Click here for details.\"]\n",
      "Predicted label: ['ham']\n",
      "Wrong Prediction!!!!\n",
      "\n"
     ]
    }
   ],
   "source": [
    "for index, message in enumerate(test_messages):\n",
    "    prediction_label = classifier.predict(message)\n",
    "    print(f\"Message: {message}\\nPredicted label: {prediction_label}\")\n",
    "    print(f\"{'Correct Prediction!!!!' if labels[index]==prediction_label else 'Wrong Prediction!!!!'}\\n\")"
   ]
  },
  {
   "cell_type": "code",
   "execution_count": 83,
   "id": "6ebfa7ce-bba5-4dfe-8d53-87e4c306d00d",
   "metadata": {},
   "outputs": [
    {
     "name": "stdout",
     "output_type": "stream",
     "text": [
      "Message: [\"Hey, just wanted to check in and see how you're doing.\"]\n",
      "Predicted label: ['ham']\n",
      "Correct Prediction!!!!\n",
      "\n",
      "Message: [\"You've won a free trip to the Bahamas! Claim your prize now.\"]\n",
      "Predicted label: ['spam']\n",
      "Correct Prediction!!!!\n",
      "\n",
      "Message: ['Reminder: Our meeting is scheduled for tomorrow at 10 AM.']\n",
      "Predicted label: ['ham']\n",
      "Correct Prediction!!!!\n",
      "\n",
      "Message: ['URGENT: Your account has been compromised. Click here to reset your password.']\n",
      "Predicted label: ['spam']\n",
      "Correct Prediction!!!!\n",
      "\n",
      "Message: [\"Don't forget to pick up groceries on your way home.\"]\n",
      "Predicted label: ['ham']\n",
      "Correct Prediction!!!!\n",
      "\n",
      "Message: ['Congratulations on your recent achievement!']\n",
      "Predicted label: ['spam']\n",
      "Wrong Prediction!!!!\n",
      "\n",
      "Message: ['Limited time offer: Get 50% off on all purchases today only!']\n",
      "Predicted label: ['spam']\n",
      "Correct Prediction!!!!\n",
      "\n",
      "Message: [\"Congratulations! You've been selected for a special promotion. Click here for details.\"]\n",
      "Predicted label: ['ham']\n",
      "Wrong Prediction!!!!\n",
      "\n"
     ]
    }
   ],
   "source": [
    "for index, message in enumerate(test_messages):\n",
    "    prediction_label = classifier2.predict(message)\n",
    "    print(f\"Message: {message}\\nPredicted label: {prediction_label}\")\n",
    "    print(f\"{'Correct Prediction!!!!' if labels[index]==prediction_label else 'Wrong Prediction!!!!'}\\n\")"
   ]
  },
  {
   "cell_type": "code",
   "execution_count": null,
   "id": "0970caa5-0636-4af7-8293-a6826d417086",
   "metadata": {},
   "outputs": [],
   "source": []
  }
 ],
 "metadata": {
  "kernelspec": {
   "display_name": "Python 3 (ipykernel)",
   "language": "python",
   "name": "python3"
  },
  "language_info": {
   "codemirror_mode": {
    "name": "ipython",
    "version": 3
   },
   "file_extension": ".py",
   "mimetype": "text/x-python",
   "name": "python",
   "nbconvert_exporter": "python",
   "pygments_lexer": "ipython3",
   "version": "3.9.18"
  }
 },
 "nbformat": 4,
 "nbformat_minor": 5
}
